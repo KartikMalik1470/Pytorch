{
  "nbformat": 4,
  "nbformat_minor": 0,
  "metadata": {
    "colab": {
      "provenance": [],
      "authorship_tag": "ABX9TyNzRzaYYPfQR8Leby0H/esD",
      "include_colab_link": true
    },
    "kernelspec": {
      "name": "python3",
      "display_name": "Python 3"
    },
    "language_info": {
      "name": "python"
    }
  },
  "cells": [
    {
      "cell_type": "markdown",
      "metadata": {
        "id": "view-in-github",
        "colab_type": "text"
      },
      "source": [
        "<a href=\"https://colab.research.google.com/github/KartikMalik1470/Pytorch/blob/main/linear_regression_with_PyTorch_.ipynb\" target=\"_parent\"><img src=\"https://colab.research.google.com/assets/colab-badge.svg\" alt=\"Open In Colab\"/></a>"
      ]
    },
    {
      "cell_type": "markdown",
      "source": [
        "### Step 1 - import numpy and torch"
      ],
      "metadata": {
        "id": "5nY3FOgLeZ9O"
      }
    },
    {
      "cell_type": "markdown",
      "source": [],
      "metadata": {
        "id": "PO_PmbOndd7w"
      }
    },
    {
      "cell_type": "code",
      "execution_count": null,
      "metadata": {
        "id": "3hI0u5U9ZfkC"
      },
      "outputs": [],
      "source": [
        "import numpy as np\n",
        "import torch"
      ]
    },
    {
      "cell_type": "markdown",
      "source": [
        "###Step 2 - take the inputs as an array (temp, rainfall, humidity)"
      ],
      "metadata": {
        "id": "ZNZmnFmIfX9N"
      }
    },
    {
      "cell_type": "code",
      "source": [
        "inputs = np.array([[73, 67, 43],\n",
        "                  [91, 88, 64],\n",
        "                  [87, 134, 58],\n",
        "                  [102, 43, 37],\n",
        "                  [69, 96, 70]], dtype = 'float32')"
      ],
      "metadata": {
        "id": "PRwdDm3Oadb1"
      },
      "execution_count": null,
      "outputs": []
    },
    {
      "cell_type": "code",
      "source": [
        "inputs.dtype"
      ],
      "metadata": {
        "colab": {
          "base_uri": "https://localhost:8080/"
        },
        "id": "0rxthtwXa4sC",
        "outputId": "1b59c75a-8b05-462d-c05e-1af6e2c45958"
      },
      "execution_count": null,
      "outputs": [
        {
          "output_type": "execute_result",
          "data": {
            "text/plain": [
              "dtype('float32')"
            ]
          },
          "metadata": {},
          "execution_count": 74
        }
      ]
    },
    {
      "cell_type": "markdown",
      "source": [
        "###Step 3 -take the outputs as an array too output (apples, oranges)"
      ],
      "metadata": {
        "id": "Q5wgiKKcha2U"
      }
    },
    {
      "cell_type": "code",
      "source": [
        "targets = np.array([[56, 70],\n",
        "                    [81, 101],\n",
        "                    [119, 133],\n",
        "                    [22, 37],\n",
        "                    [103, 119]], dtype = 'float32')"
      ],
      "metadata": {
        "id": "VlAHd8Wqa6oi"
      },
      "execution_count": null,
      "outputs": []
    },
    {
      "cell_type": "code",
      "source": [
        "targets.dtype"
      ],
      "metadata": {
        "colab": {
          "base_uri": "https://localhost:8080/"
        },
        "id": "__cVbLJSdKUN",
        "outputId": "2ad72225-6227-446a-f5f3-389020b32c4c"
      },
      "execution_count": null,
      "outputs": [
        {
          "output_type": "execute_result",
          "data": {
            "text/plain": [
              "dtype('float32')"
            ]
          },
          "metadata": {},
          "execution_count": 76
        }
      ]
    },
    {
      "cell_type": "markdown",
      "source": [
        "### Step 4 -convert inputs and targets to tensors using torch.from_numpy"
      ],
      "metadata": {
        "id": "KiZ9MLgRhgJg"
      }
    },
    {
      "cell_type": "code",
      "source": [
        "inputs = torch.from_numpy(inputs)\n",
        "targets = torch.from_numpy(targets)\n",
        "print(inputs)\n",
        "print(targets)"
      ],
      "metadata": {
        "colab": {
          "base_uri": "https://localhost:8080/"
        },
        "id": "gLDY-wYtbrbC",
        "outputId": "f45539aa-a9fe-4a3a-e19e-091bcfe03553"
      },
      "execution_count": null,
      "outputs": [
        {
          "output_type": "stream",
          "name": "stdout",
          "text": [
            "tensor([[ 73.,  67.,  43.],\n",
            "        [ 91.,  88.,  64.],\n",
            "        [ 87., 134.,  58.],\n",
            "        [102.,  43.,  37.],\n",
            "        [ 69.,  96.,  70.]])\n",
            "tensor([[ 56.,  70.],\n",
            "        [ 81., 101.],\n",
            "        [119., 133.],\n",
            "        [ 22.,  37.],\n",
            "        [103., 119.]])\n"
          ]
        }
      ]
    },
    {
      "cell_type": "markdown",
      "source": [
        "###Step 5 - initializing weigths and biases"
      ],
      "metadata": {
        "id": "02BMOk9zibsQ"
      }
    },
    {
      "cell_type": "code",
      "source": [
        "w = torch.randn(2, 3, requires_grad = True )\n",
        "b = torch.randn(2, requires_grad = True)\n",
        "\n",
        "# randn generates random numbers from a standard normal distribution mean = 0 and standard deviation = 1.\n",
        "# random generates random numbers from a uniform distribution between 0 and 1.\n"
      ],
      "metadata": {
        "id": "1VQowZJ6c3jX"
      },
      "execution_count": null,
      "outputs": []
    },
    {
      "cell_type": "code",
      "source": [
        "print(w)\n",
        "print(b)"
      ],
      "metadata": {
        "colab": {
          "base_uri": "https://localhost:8080/"
        },
        "id": "_ZM0NZtXck7r",
        "outputId": "5a231c9f-b10a-4303-89a5-0282d4bdc7a3"
      },
      "execution_count": null,
      "outputs": [
        {
          "output_type": "stream",
          "name": "stdout",
          "text": [
            "tensor([[ 0.2631, -1.3545, -0.2837],\n",
            "        [ 0.5097, -0.1013,  0.2835]], requires_grad=True)\n",
            "tensor([-0.3706,  0.2713], requires_grad=True)\n"
          ]
        }
      ]
    },
    {
      "cell_type": "markdown",
      "source": [
        "###Step 6 -Now we made the model function in this and basically the formulae is = w*x +b"
      ],
      "metadata": {
        "id": "sXc3ftZ9irME"
      }
    },
    {
      "cell_type": "code",
      "source": [
        "def model(x):\n",
        "  return x @ w.t() + b"
      ],
      "metadata": {
        "id": "tyZpLy59cmm8"
      },
      "execution_count": null,
      "outputs": []
    },
    {
      "cell_type": "markdown",
      "source": [
        "###Step 6 - Now generate the predictions"
      ],
      "metadata": {
        "id": "-_Iik_8BjK19"
      }
    },
    {
      "cell_type": "code",
      "source": [
        "preds = model(inputs)\n",
        "preds"
      ],
      "metadata": {
        "colab": {
          "base_uri": "https://localhost:8080/"
        },
        "id": "qk7yJ2XuipqA",
        "outputId": "daa43afc-c258-448f-97c5-796287a29a5c"
      },
      "execution_count": null,
      "outputs": [
        {
          "output_type": "execute_result",
          "data": {
            "text/plain": [
              "tensor([[ -84.1125,   42.8820],\n",
              "        [-113.7781,   55.8829],\n",
              "        [-175.4367,   47.4851],\n",
              "        [ -42.2709,   58.3912],\n",
              "        [-132.1053,   45.5616]], grad_fn=<AddBackward0>)"
            ]
          },
          "metadata": {},
          "execution_count": 81
        }
      ]
    },
    {
      "cell_type": "markdown",
      "source": [
        "###Step 7 - Now compare with targets"
      ],
      "metadata": {
        "id": "BmY70ZDQjV7C"
      }
    },
    {
      "cell_type": "code",
      "source": [
        "print(targets)"
      ],
      "metadata": {
        "colab": {
          "base_uri": "https://localhost:8080/"
        },
        "id": "Ef81CwawjSJM",
        "outputId": "73eb8b28-559b-47d9-a49f-0ca03801fca8"
      },
      "execution_count": null,
      "outputs": [
        {
          "output_type": "stream",
          "name": "stdout",
          "text": [
            "tensor([[ 56.,  70.],\n",
            "        [ 81., 101.],\n",
            "        [119., 133.],\n",
            "        [ 22.,  37.],\n",
            "        [103., 119.]])\n"
          ]
        }
      ]
    },
    {
      "cell_type": "code",
      "source": [
        "def mse(y1, y2):\n",
        "  diff = y1 - y2\n",
        "  return torch.sum(diff*diff/diff.numel())\n",
        "\n",
        "  # the numel() method of a tensor returns the number of elements in a tensor"
      ],
      "metadata": {
        "id": "fDqvHaAnjmqH"
      },
      "execution_count": null,
      "outputs": []
    },
    {
      "cell_type": "markdown",
      "source": [
        "### Step 8 -Compute the loss"
      ],
      "metadata": {
        "id": "YpQvvYmdmdUk"
      }
    },
    {
      "cell_type": "code",
      "source": [
        "loss = mse(preds, targets)\n",
        "print(loss)"
      ],
      "metadata": {
        "colab": {
          "base_uri": "https://localhost:8080/"
        },
        "id": "JG9ndj31lmsS",
        "outputId": "8ae5c4a1-c0ab-4c0a-f4c0-8b9e13089103"
      },
      "execution_count": null,
      "outputs": [
        {
          "output_type": "stream",
          "name": "stdout",
          "text": [
            "tensor(21960.2754, grad_fn=<SumBackward0>)\n"
          ]
        }
      ]
    },
    {
      "cell_type": "markdown",
      "source": [
        "### Step 9 - now apply backward function to the loss value for **backward propogation**"
      ],
      "metadata": {
        "id": "oNYdbFUlnrH9"
      }
    },
    {
      "cell_type": "code",
      "source": [
        "loss.backward()"
      ],
      "metadata": {
        "id": "OoioqX9qAuhZ"
      },
      "execution_count": null,
      "outputs": []
    },
    {
      "cell_type": "code",
      "source": [
        "# gradients for weights\n",
        "print(w)\n",
        "print(w.grad)"
      ],
      "metadata": {
        "colab": {
          "base_uri": "https://localhost:8080/"
        },
        "id": "KvKiqVLqGL33",
        "outputId": "67e3ce61-c6de-4375-d64f-317fbcb6133a"
      },
      "execution_count": null,
      "outputs": [
        {
          "output_type": "stream",
          "name": "stdout",
          "text": [
            "tensor([[ 0.2631, -1.3545, -0.2837],\n",
            "        [ 0.5097, -0.1013,  0.2835]], requires_grad=True)\n",
            "tensor([[-15269.3828, -18263.2578, -10880.6729],\n",
            "        [ -3282.0818,  -4675.2935,  -2672.5283]])\n"
          ]
        }
      ]
    },
    {
      "cell_type": "code",
      "source": [
        "w\n",
        "w.grad"
      ],
      "metadata": {
        "colab": {
          "base_uri": "https://localhost:8080/"
        },
        "id": "gbZnqOaHGaJM",
        "outputId": "c28ea4ed-25cc-4342-87e3-a593ac41bb8c"
      },
      "execution_count": null,
      "outputs": [
        {
          "output_type": "execute_result",
          "data": {
            "text/plain": [
              "tensor([[-15269.3828, -18263.2578, -10880.6729],\n",
              "        [ -3282.0818,  -4675.2935,  -2672.5283]])"
            ]
          },
          "metadata": {},
          "execution_count": 87
        }
      ]
    },
    {
      "cell_type": "code",
      "source": [
        "#adjusting the weights and biases\n",
        "with torch.no_grad():\n",
        "  w -= w.grad * 1e-5\n",
        "  b -= b.grad * 1e-5"
      ],
      "metadata": {
        "id": "riEZw2mKGjMc"
      },
      "execution_count": null,
      "outputs": []
    },
    {
      "cell_type": "code",
      "source": [
        "loss = mse(preds, targets)\n",
        "print(loss)"
      ],
      "metadata": {
        "colab": {
          "base_uri": "https://localhost:8080/"
        },
        "id": "MvJBDOGWG0EV",
        "outputId": "eb448156-3371-4359-9f65-1c46bf75088a"
      },
      "execution_count": null,
      "outputs": [
        {
          "output_type": "stream",
          "name": "stdout",
          "text": [
            "tensor(21960.2754, grad_fn=<SumBackward0>)\n"
          ]
        }
      ]
    },
    {
      "cell_type": "code",
      "source": [
        "# .zero_() method is used to reset the value of the gradients\n",
        "w.grad.zero_()\n",
        "b.grad.zero_()\n",
        "print(w.grad)\n",
        "print(b.grad)"
      ],
      "metadata": {
        "colab": {
          "base_uri": "https://localhost:8080/"
        },
        "id": "ykJyFg3DG4mL",
        "outputId": "fbec6080-6ed9-4b2e-89cb-32744257cf74"
      },
      "execution_count": null,
      "outputs": [
        {
          "output_type": "stream",
          "name": "stdout",
          "text": [
            "tensor([[0., 0., 0.],\n",
            "        [0., 0., 0.]])\n",
            "tensor([0., 0.])\n"
          ]
        }
      ]
    },
    {
      "cell_type": "code",
      "source": [
        "#generate predictions\n",
        "preds = model(inputs)\n",
        "print(preds)"
      ],
      "metadata": {
        "colab": {
          "base_uri": "https://localhost:8080/"
        },
        "id": "qFsGXlYNHDTU",
        "outputId": "aaa4fa90-d408-4cad-ce60-301a79b3b699"
      },
      "execution_count": null,
      "outputs": [
        {
          "output_type": "stream",
          "name": "stdout",
          "text": [
            "tensor([[ -56.0489,   49.5600],\n",
            "        [ -76.8458,   64.6947],\n",
            "        [-131.3669,   58.1559],\n",
            "        [ -14.8152,   64.7385],\n",
            "        [ -96.4184,   54.1857]], grad_fn=<AddBackward0>)\n"
          ]
        }
      ]
    },
    {
      "cell_type": "code",
      "source": [
        "# calculate the loss\n",
        "loss = mse(preds, targets)\n",
        "print(loss)"
      ],
      "metadata": {
        "colab": {
          "base_uri": "https://localhost:8080/"
        },
        "id": "ycg-Ym6QH57I",
        "outputId": "14d56424-161c-4a8e-c10b-5ab58d1bba78"
      },
      "execution_count": null,
      "outputs": [
        {
          "output_type": "stream",
          "name": "stdout",
          "text": [
            "tensor(15358.4746, grad_fn=<SumBackward0>)\n"
          ]
        }
      ]
    },
    {
      "cell_type": "code",
      "source": [
        "# compute gradients\n",
        "loss.backward()\n",
        "print(w.grad)\n",
        "print(b.grad)"
      ],
      "metadata": {
        "colab": {
          "base_uri": "https://localhost:8080/"
        },
        "id": "zDWiP8FAH_fx",
        "outputId": "e601c7c1-ceb8-4837-f4ff-ae0284541b2b"
      },
      "execution_count": null,
      "outputs": [
        {
          "output_type": "stream",
          "name": "stdout",
          "text": [
            "tensor([[-12368.0977, -15134.8203,  -8952.5938],\n",
            "        [ -2590.0386,  -3924.5740,  -2210.8181]])\n",
            "tensor([-151.2991,  -33.7330])\n"
          ]
        }
      ]
    },
    {
      "cell_type": "code",
      "source": [
        "# now adjust weights and rest gradients\n",
        "with torch.no_grad():\n",
        "  w -= w.grad * 1e-5\n",
        "  b -= b.grad * 1e-5\n",
        "  w.grad.zero_()\n",
        "  b.grad.zero_()"
      ],
      "metadata": {
        "id": "G2gGOjNIICc0"
      },
      "execution_count": null,
      "outputs": []
    },
    {
      "cell_type": "code",
      "source": [
        "print(w)\n",
        "print(b)"
      ],
      "metadata": {
        "colab": {
          "base_uri": "https://localhost:8080/"
        },
        "id": "LcvbfBd8IbvU",
        "outputId": "61442cbf-eda9-4072-a636-8324836e112a"
      },
      "execution_count": null,
      "outputs": [
        {
          "output_type": "stream",
          "name": "stdout",
          "text": [
            "tensor([[ 0.5395, -1.0205, -0.0853],\n",
            "        [ 0.5684, -0.0153,  0.3323]], requires_grad=True)\n",
            "tensor([-0.3673,  0.2721], requires_grad=True)\n"
          ]
        }
      ]
    },
    {
      "cell_type": "code",
      "source": [
        "#calculate loss\n",
        "preds = model(inputs)\n",
        "loss = mse(preds, targets)\n",
        "print(loss)"
      ],
      "metadata": {
        "colab": {
          "base_uri": "https://localhost:8080/"
        },
        "id": "1YwK3vd1Id94",
        "outputId": "28a5ec6e-697d-44e1-832a-c229ac3390a4"
      },
      "execution_count": null,
      "outputs": [
        {
          "output_type": "stream",
          "name": "stdout",
          "text": [
            "tensor(10902.5859, grad_fn=<SumBackward0>)\n"
          ]
        }
      ]
    },
    {
      "cell_type": "markdown",
      "source": [
        "#### Now train this for multiple epocs lets say a 100"
      ],
      "metadata": {
        "id": "kBZPVkMWIt33"
      }
    },
    {
      "cell_type": "code",
      "source": [
        "for i in range(100):\n",
        "  preds = model(inputs)\n",
        "  loss = mse(preds, targets)\n",
        "  loss.backward()\n",
        "  with torch.no_grad():\n",
        "    w -= w.grad * 1e-5\n",
        "    b -= b.grad * 1e-5\n",
        "    w.grad.zero_()\n",
        "    b.grad.zero_()"
      ],
      "metadata": {
        "id": "hkjsrolMIp10"
      },
      "execution_count": null,
      "outputs": []
    },
    {
      "cell_type": "code",
      "source": [
        "# Now calculate loss again\n",
        "preds = model(inputs)\n",
        "loss = mse(preds, targets)\n",
        "print(loss)"
      ],
      "metadata": {
        "colab": {
          "base_uri": "https://localhost:8080/"
        },
        "id": "KfdRfdbLJFmJ",
        "outputId": "db625e53-1312-46df-a2e9-166cfe02e4e0"
      },
      "execution_count": null,
      "outputs": [
        {
          "output_type": "stream",
          "name": "stdout",
          "text": [
            "tensor(494.8700, grad_fn=<SumBackward0>)\n"
          ]
        }
      ]
    },
    {
      "cell_type": "code",
      "source": [
        "print(preds)"
      ],
      "metadata": {
        "colab": {
          "base_uri": "https://localhost:8080/"
        },
        "id": "m6RGVaCVJM51",
        "outputId": "30e9b9e7-e364-47c6-ad43-0d4b04f50d1b"
      },
      "execution_count": null,
      "outputs": [
        {
          "output_type": "stream",
          "name": "stdout",
          "text": [
            "tensor([[ 65.5692,  75.8035],\n",
            "        [ 87.1680, 101.9803],\n",
            "        [ 93.8980, 121.1465],\n",
            "        [ 70.2098,  68.4443],\n",
            "        [ 81.8097, 103.1297]], grad_fn=<AddBackward0>)\n"
          ]
        }
      ]
    },
    {
      "cell_type": "code",
      "source": [
        "print(targets)"
      ],
      "metadata": {
        "colab": {
          "base_uri": "https://localhost:8080/"
        },
        "id": "TI-k7vfSJQAs",
        "outputId": "db6de846-baa0-4ec8-cdd2-935e11be77a3"
      },
      "execution_count": null,
      "outputs": [
        {
          "output_type": "stream",
          "name": "stdout",
          "text": [
            "tensor([[ 56.,  70.],\n",
            "        [ 81., 101.],\n",
            "        [119., 133.],\n",
            "        [ 22.,  37.],\n",
            "        [103., 119.]])\n"
          ]
        }
      ]
    },
    {
      "cell_type": "code",
      "source": [
        "for i in range(100):\n",
        "  preds = model(inputs)\n",
        "  loss = mse(preds, targets)\n",
        "  loss.backward()\n",
        "  with torch.no_grad():\n",
        "    w -= w.grad * 1e-5\n",
        "    b -= b.grad * 1e-5\n",
        "    w.grad.zero_()\n",
        "    b.grad.zero_()"
      ],
      "metadata": {
        "id": "ak72Znn7JRjx"
      },
      "execution_count": null,
      "outputs": []
    },
    {
      "cell_type": "code",
      "source": [
        "preds = model(inputs)\n",
        "loss = mse(preds, targets)\n",
        "print(loss)"
      ],
      "metadata": {
        "colab": {
          "base_uri": "https://localhost:8080/"
        },
        "id": "lykMq5jnJUc2",
        "outputId": "4d81fa63-a0e8-48a4-8ecc-455ece3588c0"
      },
      "execution_count": null,
      "outputs": [
        {
          "output_type": "stream",
          "name": "stdout",
          "text": [
            "tensor(144.2639, grad_fn=<SumBackward0>)\n"
          ]
        }
      ]
    },
    {
      "cell_type": "code",
      "source": [
        "print(preds)"
      ],
      "metadata": {
        "colab": {
          "base_uri": "https://localhost:8080/"
        },
        "id": "DZ9dRkVqJXCN",
        "outputId": "dfc4a151-5bae-47e6-956a-77056d60b193"
      },
      "execution_count": null,
      "outputs": [
        {
          "output_type": "stream",
          "name": "stdout",
          "text": [
            "tensor([[ 61.6552,  73.3601],\n",
            "        [ 84.2869, 100.3477],\n",
            "        [106.7429, 128.7876],\n",
            "        [ 47.4401,  54.2467],\n",
            "        [ 90.0844, 108.5743]], grad_fn=<AddBackward0>)\n"
          ]
        }
      ]
    },
    {
      "cell_type": "code",
      "source": [
        "print(targets)"
      ],
      "metadata": {
        "colab": {
          "base_uri": "https://localhost:8080/"
        },
        "id": "hFiscC4RJZAt",
        "outputId": "acbebfa4-3227-420c-d5e2-496d3b0c14c9"
      },
      "execution_count": null,
      "outputs": [
        {
          "output_type": "stream",
          "name": "stdout",
          "text": [
            "tensor([[ 56.,  70.],\n",
            "        [ 81., 101.],\n",
            "        [119., 133.],\n",
            "        [ 22.,  37.],\n",
            "        [103., 119.]])\n"
          ]
        }
      ]
    },
    {
      "cell_type": "markdown",
      "source": [
        "### Linear regression using PyTorch built-ins"
      ],
      "metadata": {
        "id": "q_0nWJ7IKYYd"
      }
    },
    {
      "cell_type": "code",
      "source": [
        "import torch.nn as nn"
      ],
      "metadata": {
        "id": "SSXCuC4TJZyf"
      },
      "execution_count": null,
      "outputs": []
    },
    {
      "cell_type": "code",
      "source": [
        "# Input (temp, rainfall, humidity)\n",
        "inputs = np.array([[73, 67, 43],\n",
        "                   [91, 88, 64],\n",
        "                   [87, 134, 58],\n",
        "                   [102, 43, 37],\n",
        "                   [69, 96, 70],\n",
        "                   [74, 66, 43],\n",
        "                   [91, 87, 65],\n",
        "                   [88, 134, 59],\n",
        "                   [101, 44, 37],\n",
        "                   [68, 96, 71],\n",
        "                   [73, 66, 44],\n",
        "                   [92, 87, 64],\n",
        "                   [87, 135, 57],\n",
        "                   [103, 43, 36],\n",
        "                   [68, 97, 70]],\n",
        "                   dtype = 'float32')"
      ],
      "metadata": {
        "id": "ZQxVOZXeKjbh"
      },
      "execution_count": null,
      "outputs": []
    },
    {
      "cell_type": "code",
      "source": [
        "# Targets (apples, oranges)\n",
        "targets = np.array([[56, 70],\n",
        "                    [81, 101],\n",
        "                    [119, 133],\n",
        "                    [22, 37],\n",
        "                    [103, 119],\n",
        "                    [57, 69],\n",
        "                    [80, 102],\n",
        "                    [118, 132],\n",
        "                    [21, 38],\n",
        "                    [104, 118],\n",
        "                    [57, 69],\n",
        "                    [82, 100],\n",
        "                    [118, 134],\n",
        "                    [20, 38],\n",
        "                    [102, 120]],\n",
        "                   dtype = 'float32')"
      ],
      "metadata": {
        "id": "RspPqQCQL7wH"
      },
      "execution_count": null,
      "outputs": []
    },
    {
      "cell_type": "code",
      "source": [
        "inputs = torch.from_numpy(inputs)\n",
        "targets = torch.from_numpy(targets)"
      ],
      "metadata": {
        "id": "8d3uLGKuMmqb"
      },
      "execution_count": null,
      "outputs": []
    },
    {
      "cell_type": "code",
      "source": [
        "inputs"
      ],
      "metadata": {
        "colab": {
          "base_uri": "https://localhost:8080/"
        },
        "id": "7Jn4EtaSMvAI",
        "outputId": "4c9f4123-93be-4671-a911-7fde27b17c24"
      },
      "execution_count": null,
      "outputs": [
        {
          "output_type": "execute_result",
          "data": {
            "text/plain": [
              "tensor([[ 73.,  67.,  43.],\n",
              "        [ 91.,  88.,  64.],\n",
              "        [ 87., 134.,  58.],\n",
              "        [102.,  43.,  37.],\n",
              "        [ 69.,  96.,  70.],\n",
              "        [ 74.,  66.,  43.],\n",
              "        [ 91.,  87.,  65.],\n",
              "        [ 88., 134.,  59.],\n",
              "        [101.,  44.,  37.],\n",
              "        [ 68.,  96.,  71.],\n",
              "        [ 73.,  66.,  44.],\n",
              "        [ 92.,  87.,  64.],\n",
              "        [ 87., 135.,  57.],\n",
              "        [103.,  43.,  36.],\n",
              "        [ 68.,  97.,  70.]])"
            ]
          },
          "metadata": {},
          "execution_count": 109
        }
      ]
    },
    {
      "cell_type": "code",
      "source": [
        "targets"
      ],
      "metadata": {
        "colab": {
          "base_uri": "https://localhost:8080/"
        },
        "id": "c8bzf44MMwhz",
        "outputId": "a513bcd1-22de-432b-a691-ca8bcfa6c59a"
      },
      "execution_count": null,
      "outputs": [
        {
          "output_type": "execute_result",
          "data": {
            "text/plain": [
              "tensor([[ 56.,  70.],\n",
              "        [ 81., 101.],\n",
              "        [119., 133.],\n",
              "        [ 22.,  37.],\n",
              "        [103., 119.],\n",
              "        [ 57.,  69.],\n",
              "        [ 80., 102.],\n",
              "        [118., 132.],\n",
              "        [ 21.,  38.],\n",
              "        [104., 118.],\n",
              "        [ 57.,  69.],\n",
              "        [ 82., 100.],\n",
              "        [118., 134.],\n",
              "        [ 20.,  38.],\n",
              "        [102., 120.]])"
            ]
          },
          "metadata": {},
          "execution_count": 110
        }
      ]
    },
    {
      "cell_type": "markdown",
      "source": [
        "### Dataset & DataLoader\n",
        "**DataSet** - It's like putting your data into two separate boxes (tensors).\n",
        "The first box (inputs) contains the information you want the computer to learn from (like images or numbers).\n",
        "The second box (targets) contains the correct answers or labels that you want the computer to learn to predict\n",
        "\n",
        "**DataLoader** - A data loader is like a helper that takes your big pile of data, divides it into small groups (batches), and hands those batches to your learning machine one at a time. This makes it easier for your machine to learn from the data without getting overwhelmed and helps it learn efficiently.\n",
        "\n",
        "we'll create a TensorDataset, which allows access to rows from inputs and targets as tuples, and provides standard APIs for working with many different types of datasets in PyTorch"
      ],
      "metadata": {
        "id": "UAx839QMM36G"
      }
    },
    {
      "cell_type": "code",
      "source": [
        "from torch.utils.data import TensorDataset"
      ],
      "metadata": {
        "id": "utjpHAdzMzWj"
      },
      "execution_count": null,
      "outputs": []
    },
    {
      "cell_type": "code",
      "source": [
        "# define dataset\n",
        "# the TensorDataset allows us to access a small section of the training data using the array indexing notation ([0:3] in the above code). it returns a tuple with 2 elements.\n",
        "# we'll also create a DataLoader, which can split the data into batches of a predefinedsize while training\n",
        "train_ds = TensorDataset(inputs, targets)\n",
        "train_ds[0:3]"
      ],
      "metadata": {
        "colab": {
          "base_uri": "https://localhost:8080/"
        },
        "id": "Jlsv2lUAM-bR",
        "outputId": "4dd0e30a-94be-4963-ccb7-eda312aa0439"
      },
      "execution_count": null,
      "outputs": [
        {
          "output_type": "execute_result",
          "data": {
            "text/plain": [
              "(tensor([[ 73.,  67.,  43.],\n",
              "         [ 91.,  88.,  64.],\n",
              "         [ 87., 134.,  58.]]),\n",
              " tensor([[ 56.,  70.],\n",
              "         [ 81., 101.],\n",
              "         [119., 133.]]))"
            ]
          },
          "metadata": {},
          "execution_count": 112
        }
      ]
    },
    {
      "cell_type": "code",
      "source": [
        "from torch.utils.data import DataLoader"
      ],
      "metadata": {
        "id": "ftjJxjydNFdl"
      },
      "execution_count": null,
      "outputs": []
    },
    {
      "cell_type": "code",
      "source": [
        "#Define data loader\n",
        "batch_size = 5\n",
        "train_dl = DataLoader(train_ds, batch_size, shuffle = True)"
      ],
      "metadata": {
        "id": "FQ5eQhD7OExz"
      },
      "execution_count": null,
      "outputs": []
    },
    {
      "cell_type": "code",
      "source": [
        "for xb, yb in train_dl:\n",
        "  print(xb)\n",
        "  print(yb)"
      ],
      "metadata": {
        "colab": {
          "base_uri": "https://localhost:8080/"
        },
        "id": "vlnFq_c8Oav6",
        "outputId": "affc2b58-4949-4b34-9833-ef3793e1144c"
      },
      "execution_count": null,
      "outputs": [
        {
          "output_type": "stream",
          "name": "stdout",
          "text": [
            "tensor([[ 92.,  87.,  64.],\n",
            "        [ 91.,  87.,  65.],\n",
            "        [ 73.,  66.,  44.],\n",
            "        [ 73.,  67.,  43.],\n",
            "        [ 88., 134.,  59.]])\n",
            "tensor([[ 82., 100.],\n",
            "        [ 80., 102.],\n",
            "        [ 57.,  69.],\n",
            "        [ 56.,  70.],\n",
            "        [118., 132.]])\n",
            "tensor([[103.,  43.,  36.],\n",
            "        [ 74.,  66.,  43.],\n",
            "        [102.,  43.,  37.],\n",
            "        [ 87., 135.,  57.],\n",
            "        [ 68.,  97.,  70.]])\n",
            "tensor([[ 20.,  38.],\n",
            "        [ 57.,  69.],\n",
            "        [ 22.,  37.],\n",
            "        [118., 134.],\n",
            "        [102., 120.]])\n",
            "tensor([[ 87., 134.,  58.],\n",
            "        [ 69.,  96.,  70.],\n",
            "        [ 91.,  88.,  64.],\n",
            "        [ 68.,  96.,  71.],\n",
            "        [101.,  44.,  37.]])\n",
            "tensor([[119., 133.],\n",
            "        [103., 119.],\n",
            "        [ 81., 101.],\n",
            "        [104., 118.],\n",
            "        [ 21.,  38.]])\n"
          ]
        }
      ]
    },
    {
      "cell_type": "markdown",
      "source": [
        "### nn.linear"
      ],
      "metadata": {
        "id": "t_jgeCY_gu4N"
      }
    },
    {
      "cell_type": "code",
      "source": [
        "# instead of intializing the weights and biases manually, we can define the model using the nn.linear class from PyTorch, which does it automatically.\n",
        "# Define Model\n",
        "model = nn.Linear(3,2)\n",
        "print(model.weight)\n",
        "print(model.bias)"
      ],
      "metadata": {
        "colab": {
          "base_uri": "https://localhost:8080/"
        },
        "id": "YLqKTRMnOhie",
        "outputId": "07264e46-45e3-40cb-8d54-458fd4d64975"
      },
      "execution_count": null,
      "outputs": [
        {
          "output_type": "stream",
          "name": "stdout",
          "text": [
            "Parameter containing:\n",
            "tensor([[ 0.1067, -0.3128,  0.0030],\n",
            "        [-0.5238,  0.0696, -0.1359]], requires_grad=True)\n",
            "Parameter containing:\n",
            "tensor([-0.3015, -0.1071], requires_grad=True)\n"
          ]
        }
      ]
    },
    {
      "cell_type": "code",
      "source": [
        "#the .parameters method returns a list containing all the weights and bias matrices present in the model\n",
        "list(model.parameters())"
      ],
      "metadata": {
        "colab": {
          "base_uri": "https://localhost:8080/"
        },
        "id": "y3-qAPh_g7UK",
        "outputId": "be609c1e-c40c-48fd-a495-7a96694bf837"
      },
      "execution_count": null,
      "outputs": [
        {
          "output_type": "execute_result",
          "data": {
            "text/plain": [
              "[Parameter containing:\n",
              " tensor([[ 0.1067, -0.3128,  0.0030],\n",
              "         [-0.5238,  0.0696, -0.1359]], requires_grad=True),\n",
              " Parameter containing:\n",
              " tensor([-0.3015, -0.1071], requires_grad=True)]"
            ]
          },
          "metadata": {},
          "execution_count": 117
        }
      ]
    },
    {
      "cell_type": "code",
      "source": [
        "# now for generating predections\n",
        "preds = model(inputs)\n",
        "preds"
      ],
      "metadata": {
        "colab": {
          "base_uri": "https://localhost:8080/"
        },
        "id": "Z4IR29-dhHkw",
        "outputId": "acff47ce-171d-4705-f158-0f2050063305"
      },
      "execution_count": null,
      "outputs": [
        {
          "output_type": "execute_result",
          "data": {
            "text/plain": [
              "tensor([[-13.3338, -39.5220],\n",
              "        [-17.9166, -50.3420],\n",
              "        [-32.7489, -44.2287],\n",
              "        [ -2.7506, -55.5668],\n",
              "        [-22.7486, -39.0776],\n",
              "        [-12.9144, -40.1154],\n",
              "        [-17.6008, -50.5475],\n",
              "        [-32.6391, -44.8884],\n",
              "        [ -3.1701, -54.9734],\n",
              "        [-22.8523, -38.6897],\n",
              "        [-13.0180, -39.7275],\n",
              "        [-17.4971, -50.9354],\n",
              "        [-33.0647, -44.0232],\n",
              "        [ -2.6469, -55.9546],\n",
              "        [-23.1681, -38.4842]], grad_fn=<AddmmBackward0>)"
            ]
          },
          "metadata": {},
          "execution_count": 118
        }
      ]
    },
    {
      "cell_type": "code",
      "source": [
        "#import nn.functional(it contains many useful loss functions such as mse rmse)\n",
        "import torch.nn.functional as F"
      ],
      "metadata": {
        "id": "-aVk6uqyhbIv"
      },
      "execution_count": null,
      "outputs": []
    },
    {
      "cell_type": "code",
      "source": [
        "# for calculating loss we can use the built-in loss function mse_loss instead of typing the whole formulae\n",
        "loss_fn = F.mse_loss"
      ],
      "metadata": {
        "id": "eKprruBqhP1n"
      },
      "execution_count": null,
      "outputs": []
    },
    {
      "cell_type": "code",
      "source": [
        "loss = loss_fn(model(inputs), targets)\n",
        "print(loss)"
      ],
      "metadata": {
        "colab": {
          "base_uri": "https://localhost:8080/"
        },
        "id": "nh9UfDn0hzDv",
        "outputId": "7e8c47d1-b197-4639-81a4-7a57fab5aa0d"
      },
      "execution_count": null,
      "outputs": [
        {
          "output_type": "stream",
          "name": "stdout",
          "text": [
            "tensor(15379.9346, grad_fn=<MseLossBackward0>)\n"
          ]
        }
      ]
    },
    {
      "cell_type": "code",
      "source": [
        "#instead of manually manipulating the model's weights and biases using gradients, we can use the optimizer optim.SGD (SGD - stochastic gradient descent)\n",
        "opt = torch.optim.SGD(model.parameters(), lr = 1e-5)"
      ],
      "metadata": {
        "id": "K7W4XbmZh76T"
      },
      "execution_count": null,
      "outputs": []
    },
    {
      "cell_type": "markdown",
      "source": [
        "### We are now ready to train the model"
      ],
      "metadata": {
        "id": "2UO9aQGJiz9G"
      }
    },
    {
      "cell_type": "code",
      "source": [
        "def fit(num_epochs, model, loss_fn, opt, train_dl):\n",
        "\n",
        "  for epoch in range(num_epochs):\n",
        "\n",
        "    for inputs, targets in train_dl:\n",
        "\n",
        "      pred = model(inputs)\n",
        "\n",
        "      loss = loss_fn(pred, targets)\n",
        "\n",
        "      loss.backward()\n",
        "\n",
        "      opt.step()\n",
        "\n",
        "      opt.zero_grad()\n",
        "\n",
        "    if (epoch+1) % 10 == 0:\n",
        "      print(f'Epoch [{epoch+1}/{num_epochs}], Loss: loss.items{loss.item():.4f}') #get 10 numerical values of the loss function\n",
        "\n"
      ],
      "metadata": {
        "id": "ZBO16d9gir4z"
      },
      "execution_count": null,
      "outputs": []
    },
    {
      "cell_type": "markdown",
      "source": [
        "Some things to note above:\n",
        "\n",
        "* We use the data loader defined earlier to get batches of data for every iteration.\n",
        "\n",
        "* Instead of updating parameters (weights and biases) manually, we use `opt.step` to perform the update and `opt.zero_grad` to reset the gradients to zero.\n",
        "\n",
        "* We've also added a log statement that prints the loss from the last batch of data for every 10th epoch to track training progress. `loss.item` returns the actual value stored in the loss tensor.\n",
        "\n",
        "Let's train the model for 100 `epochs`."
      ],
      "metadata": {
        "id": "GoLPt5Z7o-sr"
      }
    },
    {
      "cell_type": "code",
      "source": [
        "fit(100, model, loss_fn, opt, train_dl)"
      ],
      "metadata": {
        "colab": {
          "base_uri": "https://localhost:8080/"
        },
        "id": "SCMOskczm46d",
        "outputId": "cdf72ad0-b94c-4125-bfea-3e6577b71623"
      },
      "execution_count": null,
      "outputs": [
        {
          "output_type": "stream",
          "name": "stdout",
          "text": [
            "Epoch [10/100], Loss: loss.items317.8008\n",
            "Epoch [20/100], Loss: loss.items265.3327\n",
            "Epoch [30/100], Loss: loss.items168.3259\n",
            "Epoch [40/100], Loss: loss.items123.7542\n",
            "Epoch [50/100], Loss: loss.items90.4093\n",
            "Epoch [60/100], Loss: loss.items84.4912\n",
            "Epoch [70/100], Loss: loss.items50.2473\n",
            "Epoch [80/100], Loss: loss.items38.6207\n",
            "Epoch [90/100], Loss: loss.items35.2650\n",
            "Epoch [100/100], Loss: loss.items16.4730\n"
          ]
        }
      ]
    },
    {
      "cell_type": "code",
      "source": [
        "preds = model(inputs)\n",
        "preds"
      ],
      "metadata": {
        "colab": {
          "base_uri": "https://localhost:8080/"
        },
        "id": "naTi76BjpHSS",
        "outputId": "efb0392e-50d1-4466-e8da-d599ddd556d9"
      },
      "execution_count": null,
      "outputs": [
        {
          "output_type": "execute_result",
          "data": {
            "text/plain": [
              "tensor([[ 58.4197,  71.0849],\n",
              "        [ 81.4386,  97.6473],\n",
              "        [117.0685, 137.8066],\n",
              "        [ 29.5785,  41.8837],\n",
              "        [ 95.6639, 111.0746],\n",
              "        [ 57.3816,  70.0162],\n",
              "        [ 81.0916,  97.1954],\n",
              "        [117.3164, 138.1290],\n",
              "        [ 30.6166,  42.9523],\n",
              "        [ 96.3550, 111.6914],\n",
              "        [ 58.0727,  70.6330],\n",
              "        [ 80.4004,  96.5787],\n",
              "        [117.4154, 138.2585],\n",
              "        [ 28.8873,  41.2669],\n",
              "        [ 96.7020, 112.1433]], grad_fn=<AddmmBackward0>)"
            ]
          },
          "metadata": {},
          "execution_count": 127
        }
      ]
    },
    {
      "cell_type": "code",
      "source": [
        "targets"
      ],
      "metadata": {
        "colab": {
          "base_uri": "https://localhost:8080/"
        },
        "id": "YT-8K5YOpNB-",
        "outputId": "3277d9cc-e316-440a-b98f-4f341dad8ae7"
      },
      "execution_count": null,
      "outputs": [
        {
          "output_type": "execute_result",
          "data": {
            "text/plain": [
              "tensor([[ 56.,  70.],\n",
              "        [ 81., 101.],\n",
              "        [119., 133.],\n",
              "        [ 22.,  37.],\n",
              "        [103., 119.],\n",
              "        [ 57.,  69.],\n",
              "        [ 80., 102.],\n",
              "        [118., 132.],\n",
              "        [ 21.,  38.],\n",
              "        [104., 118.],\n",
              "        [ 57.,  69.],\n",
              "        [ 82., 100.],\n",
              "        [118., 134.],\n",
              "        [ 20.,  38.],\n",
              "        [102., 120.]])"
            ]
          },
          "metadata": {},
          "execution_count": 128
        }
      ]
    },
    {
      "cell_type": "code",
      "source": [
        "model(torch.tensor([[75, 63, 44.]]))"
      ],
      "metadata": {
        "colab": {
          "base_uri": "https://localhost:8080/"
        },
        "id": "APjSisvFpOtU",
        "outputId": "47c0d9b3-f3db-41f4-fc05-0c23e24327e0"
      },
      "execution_count": null,
      "outputs": [
        {
          "output_type": "execute_result",
          "data": {
            "text/plain": [
              "tensor([[55.1799, 67.5742]], grad_fn=<AddmmBackward0>)"
            ]
          },
          "metadata": {},
          "execution_count": 129
        }
      ]
    },
    {
      "cell_type": "markdown",
      "source": [
        "###conclusion - the yield for apples was 55.1 ton and for oranges it's 67.5 tons"
      ],
      "metadata": {
        "id": "jv6vO1GdpjAi"
      }
    }
  ]
}